{
 "cells": [
  {
   "cell_type": "code",
   "execution_count": 1,
   "metadata": {},
   "outputs": [],
   "source": [
    "import requests"
   ]
  },
  {
   "cell_type": "code",
   "execution_count": 2,
   "metadata": {},
   "outputs": [],
   "source": [
    "def get_1(city_1):\n",
    "    url_1 = f\"http://api.openweathermap.org/data/2.5/weather?q={city_1}&appid=db14c0395ff0e7d8666a3f6fe4217e07\"\n",
    "    data = requests.get(url_1).json()\n",
    "    forecast_data = data[\"main\"]\n",
    "    a = u'\\N{DEGREE SIGN}'+'C' #знак цельсия\n",
    "    t = str(round(forecast_data[\"temp\"] - 273.15,1)) #Текущая температура\n",
    "    f = str(round(forecast_data[\"feels_like\"] - 273.15,1)) #Как ощущается\n",
    "    print(\"Город :\", city_1.capitalize(), \\\n",
    "          \"\\nТемпература :\",t+a,\\\n",
    "          \"\\nОщущается, как :\",f+a)"
   ]
  },
  {
   "cell_type": "code",
   "execution_count": 3,
   "metadata": {},
   "outputs": [
    {
     "name": "stdout",
     "output_type": "stream",
     "text": [
      "Город : Ekaterinburg \n",
      "Температура : 25.0°C \n",
      "Ощущается, как : 25.0°C\n"
     ]
    }
   ],
   "source": [
    "get_1(\"ekaterinburg\")"
   ]
  },
  {
   "cell_type": "code",
   "execution_count": 4,
   "metadata": {},
   "outputs": [],
   "source": [
    "def valid():\n",
    "    url_2 = [\"https://ru.wikipedia.org\", \"http://openweathermap.org\", \"https://data.gov.ru/opendata/7710349494-urals\",\\\n",
    "             \"http://urfu.ru\"]\n",
    "    status = []\n",
    "    for i in url_2:\n",
    "        status.append(requests.head(i).status_code)\n",
    "    union_d = list(zip(status, url_2))\n",
    "    valid_urls = range(100, 400)\n",
    "    unvalid_urls = range(400, 527)\n",
    "    for u, i in union_d:\n",
    "        if u in valid_urls:\n",
    "            print(f\"Сайт: {i} доступен!\")\n",
    "        elif u in unvalid_urls:\n",
    "            print(f\"В данный момент {i} сайт не работает.\")\n",
    "        else:\n",
    "            print(\"Wrong\")"
   ]
  },
  {
   "cell_type": "code",
   "execution_count": 5,
   "metadata": {},
   "outputs": [
    {
     "name": "stdout",
     "output_type": "stream",
     "text": [
      "Сайт: https://ru.wikipedia.org доступен!\n",
      "Сайт: http://openweathermap.org доступен!\n",
      "В данный момент https://data.gov.ru/opendata/7710349494-urals сайт не работает.\n",
      "Сайт: http://urfu.ru доступен!\n"
     ]
    }
   ],
   "source": [
    "valid()"
   ]
  }
 ],
 "metadata": {
  "kernelspec": {
   "display_name": "Python 3",
   "language": "python",
   "name": "python3"
  },
  "language_info": {
   "codemirror_mode": {
    "name": "ipython",
    "version": 3
   },
   "file_extension": ".py",
   "mimetype": "text/x-python",
   "name": "python",
   "nbconvert_exporter": "python",
   "pygments_lexer": "ipython3",
   "version": "3.7.6"
  }
 },
 "nbformat": 4,
 "nbformat_minor": 4
}
